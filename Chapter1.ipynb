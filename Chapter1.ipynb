{
 "cells": [
  {
   "cell_type": "markdown",
   "metadata": {
    "deletable": true,
    "editable": true
   },
   "source": [
    "# Chapter 1: Introduction to Optimization"
   ]
  },
  {
   "cell_type": "markdown",
   "metadata": {},
   "source": [
    "## Definition of an optimization problem"
   ]
  },
  {
   "cell_type": "markdown",
   "metadata": {},
   "source": [
    "An *optimization problem* has the form\n",
    "\n",
    "$$\n",
    "\\begin{array}{rl}\n",
    "\\text{minimize} & f_0(x) \\\\\n",
    "\\text{subject to} & f_i(x)\\le b_i,\\quad i=1,\\ldots,m\n",
    "\\end{array}\n",
    "$$\n",
    "\n",
    "where:\n",
    "\n",
    "* $x=(x_1,\\ldots,x_n)\\in\\mathbb R^n$ is the *optimization variable*;\n",
    "* $f_0:\\mathbb R^n\\to\\mathbb R$ is the *objective function*;\n",
    "* $f_i:\\mathbb R^n\\to \\mathbb R$, $i=1,\\ldots,m$ are the *constraint functions*;\n",
    "* $b_1,...,b_m$ are the limits (bounds) for the constraints.\n",
    "\n",
    "A vector $x^*$ is *optimal* or is a *solution* if\n",
    "\n",
    "$$\n",
    "\\forall z\\in\\mathbb R^n\\text{ satisfying the constraints,}\\quad f_0(x^*)\\le f_0(z).\n",
    "$$\n",
    "\n"
   ]
  },
  {
   "cell_type": "markdown",
   "metadata": {},
   "source": [
    "## Classes of optimization problems"
   ]
  },
  {
   "cell_type": "markdown",
   "metadata": {},
   "source": [
    "Optimization problems are bundled into classes based on the form of their objective ($f_0$) and constraint ($f_i$) functions. Here are some below.\n",
    "\n",
    " > Note: in optimization jargon, a \"program\" is an alias for an \"optimization problem\".\n",
    "\n",
    "### Linear program\n",
    "\n",
    "$f_0,\\ldots,f_m$ are linear functions (i.e. both objective and constraints). Recall:\n",
    "\n",
    "$$\n",
    "f(x):\\mathbb R^n\\to\\mathbb R\\text{ is linear }\\Leftrightarrow \\forall x,y\\in\\mathbb R^n,\\,\\,\\forall\\alpha\\in\\mathbb R\\qquad f(\\alpha x+\\beta y)=\\alpha f(x)+\\beta f(y).\n",
    "$$\n",
    "\n",
    "### Nonlinear program\n",
    "\n",
    "An optimization problem is nonlinear if it is not linear. Of course, there are many classes of nonlinear programs...\n",
    "\n",
    "### Convex program\n",
    "\n",
    "...and convex optimization is one of them! A *convex optimization problem* is one in which $f_0,\\ldots,f_m$ are *convex*.\n",
    "\n",
    " > **Definition** $f(x):\\mathbb R^n\\to\\mathbb R$ is convex if and only if\n",
    " $$\n",
    " \\forall x,y\\in\\mathbb R^n, \\forall \\alpha,\\beta\\in\\mathbb R_{+}\\text{ s.t. }\\alpha+\\beta=1\\quad\\Rightarrow\\quad f(\\alpha x+\\beta y)\\le \\alpha f(x)+\\beta f(y).\n",
    " $$"
   ]
  },
  {
   "cell_type": "code",
   "execution_count": null,
   "metadata": {
    "collapsed": true
   },
   "outputs": [],
   "source": []
  }
 ],
 "metadata": {
  "kernelspec": {
   "display_name": "py3",
   "language": "python",
   "name": "py3"
  },
  "language_info": {
   "codemirror_mode": {
    "name": "ipython",
    "version": 2
   },
   "file_extension": ".py",
   "mimetype": "text/x-python",
   "name": "python",
   "nbconvert_exporter": "python",
   "pygments_lexer": "ipython2",
   "version": "2.7.6"
  }
 },
 "nbformat": 4,
 "nbformat_minor": 2
}
